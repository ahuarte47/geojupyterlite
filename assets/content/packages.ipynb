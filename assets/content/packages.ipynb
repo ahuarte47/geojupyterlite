{
  "metadata": {
    "kernelspec": {
      "display_name": "Python (Pyodide)",
      "language": "python",
      "name": "python"
    },
    "language_info": {
      "codemirror_mode": {
        "name": "python",
        "version": 3
      },
      "file_extension": ".py",
      "mimetype": "text/x-python",
      "name": "python",
      "nbconvert_exporter": "python",
      "pygments_lexer": "ipython3",
      "version": "3.8"
    }
  },
  "nbformat_minor": 4,
  "nbformat": 4,
  "cells": [
    {
      "cell_type": "markdown",
      "source": "## Common packages & releases",
      "metadata": {}
    },
    {
      "cell_type": "code",
      "source": "import sys\nprint(f\"Python version: {sys.version}\")",
      "metadata": {
        "trusted": true
      },
      "outputs": [
        {
          "name": "stdout",
          "text": "Python version: 3.11.3 (main, Jan 18 2024, 19:07:12) [Clang 18.0.0 (https://github.com/llvm/llvm-project 75501f53624de92aafce2f1da698\n",
          "output_type": "stream"
        }
      ],
      "execution_count": 1
    },
    {
      "cell_type": "code",
      "source": "import numpy as np\nprint(f\"NumPy version: {np.__version__}\")",
      "metadata": {
        "trusted": true
      },
      "outputs": [
        {
          "name": "stdout",
          "text": "NumPy version: 1.26.1\n",
          "output_type": "stream"
        }
      ],
      "execution_count": 2
    },
    {
      "cell_type": "code",
      "source": "import scipy\nprint(f\"SciPy version: {scipy.__version__}\")",
      "metadata": {
        "trusted": true
      },
      "outputs": [
        {
          "name": "stdout",
          "text": "SciPy version: 1.11.2\n",
          "output_type": "stream"
        }
      ],
      "execution_count": 3
    },
    {
      "cell_type": "code",
      "source": "import sklearn\nprint(f\"Scikit-learn version: {sklearn.__version__}\")",
      "metadata": {
        "trusted": true
      },
      "outputs": [
        {
          "name": "stdout",
          "text": "Scikit-learn version: 1.3.1\n",
          "output_type": "stream"
        }
      ],
      "execution_count": 4
    },
    {
      "cell_type": "code",
      "source": "import pandas as pd\nprint(f\"Pandas version: {pd.__version__}\")",
      "metadata": {
        "trusted": true
      },
      "outputs": [
        {
          "name": "stdout",
          "text": "Pandas version: 1.5.3\n",
          "output_type": "stream"
        }
      ],
      "execution_count": 5
    },
    {
      "cell_type": "markdown",
      "source": "## DuckDB",
      "metadata": {}
    },
    {
      "cell_type": "code",
      "source": "%pip install duckdb",
      "metadata": {
        "trusted": true
      },
      "outputs": [],
      "execution_count": 10
    },
    {
      "cell_type": "code",
      "source": "import duckdb\nduckdb.sql('PRAGMA version;')",
      "metadata": {
        "trusted": true
      },
      "outputs": [
        {
          "execution_count": 11,
          "output_type": "execute_result",
          "data": {
            "text/plain": "┌─────────────────┬────────────┐\n│ library_version │ source_id  │\n│     varchar     │  varchar   │\n├─────────────────┼────────────┤\n│ v0.10.3         │ 70fd6a8a24 │\n└─────────────────┴────────────┘"
          },
          "metadata": {}
        }
      ],
      "execution_count": 11
    },
    {
      "cell_type": "code",
      "source": "duckdb.sql('SELECT * FROM duckdb_extensions();')",
      "metadata": {
        "trusted": true
      },
      "outputs": [
        {
          "execution_count": 12,
          "output_type": "execute_result",
          "data": {
            "text/plain": "┌──────────────────┬─────────┬───────────┬───┬───────────────────┬───────────────────┬────────────────┐\n│  extension_name  │ loaded  │ installed │ … │ extension_version │   install_mode    │ installed_from │\n│     varchar      │ boolean │  boolean  │   │      varchar      │      varchar      │    varchar     │\n├──────────────────┼─────────┼───────────┼───┼───────────────────┼───────────────────┼────────────────┤\n│ arrow            │ false   │ false     │ … │                   │ NULL              │                │\n│ autocomplete     │ false   │ false     │ … │                   │ NULL              │                │\n│ aws              │ false   │ false     │ … │                   │ NULL              │                │\n│ azure            │ false   │ false     │ … │                   │ NULL              │                │\n│ excel            │ false   │ false     │ … │                   │ NULL              │                │\n│ fts              │ false   │ true      │ … │                   │ STATICALLY_LINKED │                │\n│ httpfs           │ false   │ false     │ … │                   │ NULL              │                │\n│ iceberg          │ false   │ false     │ … │                   │ NULL              │                │\n│ icu              │ true    │ true      │ … │                   │ STATICALLY_LINKED │                │\n│ inet             │ false   │ false     │ … │                   │ NULL              │                │\n│ jemalloc         │ false   │ false     │ … │                   │ NULL              │                │\n│ json             │ true    │ true      │ … │                   │ STATICALLY_LINKED │                │\n│ motherduck       │ false   │ false     │ … │                   │ NULL              │                │\n│ mysql_scanner    │ false   │ false     │ … │                   │ NULL              │                │\n│ parquet          │ true    │ true      │ … │                   │ STATICALLY_LINKED │                │\n│ postgres_scanner │ false   │ false     │ … │                   │ NULL              │                │\n│ spatial          │ false   │ false     │ … │                   │ NULL              │                │\n│ sqlite_scanner   │ false   │ false     │ … │                   │ NULL              │                │\n│ substrait        │ false   │ false     │ … │                   │ NULL              │                │\n│ tpcds            │ true    │ true      │ … │                   │ STATICALLY_LINKED │                │\n│ tpch             │ true    │ true      │ … │                   │ STATICALLY_LINKED │                │\n├──────────────────┴─────────┴───────────┴───┴───────────────────┴───────────────────┴────────────────┤\n│ 21 rows                                                                         9 columns (6 shown) │\n└─────────────────────────────────────────────────────────────────────────────────────────────────────┘"
          },
          "metadata": {}
        }
      ],
      "execution_count": 12
    },
    {
      "cell_type": "code",
      "source": "duckdb.sql('SELECT 42;')",
      "metadata": {
        "trusted": true
      },
      "outputs": [
        {
          "execution_count": 13,
          "output_type": "execute_result",
          "data": {
            "text/plain": "┌───────┐\n│  42   │\n│ int32 │\n├───────┤\n│    42 │\n└───────┘"
          },
          "metadata": {}
        }
      ],
      "execution_count": 13
    },
    {
      "cell_type": "code",
      "source": "con = duckdb.connect(database=':memory:', read_only=False)",
      "metadata": {
        "trusted": true
      },
      "outputs": [],
      "execution_count": 14
    },
    {
      "cell_type": "code",
      "source": "rs = con.execute('SELECT 42;')\nrs.fetchone()",
      "metadata": {
        "trusted": true
      },
      "outputs": [
        {
          "execution_count": 15,
          "output_type": "execute_result",
          "data": {
            "text/plain": "(42,)"
          },
          "metadata": {}
        }
      ],
      "execution_count": 15
    },
    {
      "cell_type": "code",
      "source": "",
      "metadata": {
        "trusted": true
      },
      "outputs": [],
      "execution_count": null
    }
  ]
}